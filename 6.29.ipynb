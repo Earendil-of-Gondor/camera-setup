{
 "cells": [
  {
   "cell_type": "code",
   "execution_count": 1,
   "id": "c39645c5",
   "metadata": {},
   "outputs": [],
   "source": [
    "import cv2 as cv\n",
    "import numpy as np\n",
    "import face_recognition\n",
    "import glob"
   ]
  },
  {
   "cell_type": "code",
   "execution_count": 14,
   "id": "ef91ad32",
   "metadata": {},
   "outputs": [],
   "source": [
    "i = cv.imread('Photos/others/cat.jpg')\n",
    "cv.imshow('as', i)"
   ]
  },
  {
   "cell_type": "code",
   "execution_count": null,
   "id": "d1eea2d9",
   "metadata": {},
   "outputs": [],
   "source": []
  },
  {
   "cell_type": "code",
   "execution_count": 37,
   "id": "ddecc316-f5a2-4e19-bc3d-9349b3fa1bbb",
   "metadata": {},
   "outputs": [],
   "source": [
    "elon_image1 = face_recognition.load_image_file('Faces/elon1.jpeg')\n",
    "einstein_image1 = face_recognition.load_image_file('Faces/einstein1.jpeg')\n",
    "\n",
    "elon_encoding1 = face_recognition.face_encodings(elon_image1)[0]\n",
    "einstein_encoding1 = face_recognition.face_encodings(einstein_image1)[0]\n",
    "\n",
    "#elon_image2 = face_recognition.load_image_file('Faces/elon2.webp')\n",
    "einstein_image2 = face_recognition.load_image_file('Faces/einstein2.jpeg')\n",
    "\n",
    "#elon_encoding2 = face_recognition.face_encodings(elon_image2)[0]\n",
    "einstein_encoding2 = face_recognition.face_encodings(einstein_image2)[0]\n",
    "\n",
    "results = face_recognition.compare_faces([einstein_encoding1], elon_encoding1)"
   ]
  },
  {
   "cell_type": "code",
   "execution_count": 38,
   "id": "39b6525b",
   "metadata": {},
   "outputs": [
    {
     "data": {
      "text/plain": [
       "[False]"
      ]
     },
     "execution_count": 38,
     "metadata": {},
     "output_type": "execute_result"
    }
   ],
   "source": [
    "results"
   ]
  },
  {
   "cell_type": "code",
   "execution_count": 15,
   "id": "177f9ef7",
   "metadata": {},
   "outputs": [],
   "source": [
    "#show webcam video\n",
    "capture = cv.VideoCapture(0)\n",
    "while True:\n",
    "    isTrue, frame = capture.read()\n",
    "\n",
    "    if isTrue:   \n",
    "        frame = cv.flip(frame, 1)\n",
    "        cv.imshow('Video', frame)\n",
    "        if cv.waitKey(20) & 0xFF==ord('d'):\n",
    "            break            \n",
    "    else:\n",
    "        break\n",
    "\n",
    "capture.release()\n",
    "cv.destroyAllWindows()"
   ]
  },
  {
   "cell_type": "code",
   "execution_count": 2,
   "id": "6216096e",
   "metadata": {},
   "outputs": [],
   "source": [
    "#face location recognition\n",
    "capture = cv.VideoCapture(0)\n",
    "process_this_frame = 0\n",
    "storedFaceLocation = [(0,0,0,0)]\n",
    "face_recog_scale_factor = 4\n",
    "\n",
    "while True:\n",
    "    isTrue, frame = capture.read()\n",
    "    \n",
    "    if cv.waitKey(20) & 0xFF==ord('q') or not(isTrue):\n",
    "        break  \n",
    "            \n",
    "    frame = cv.flip(frame, 1)\n",
    "    frame = cv.resize(frame, (frame.shape[1] // 2, frame.shape[0] // 2), interpolation = cv.INTER_CUBIC)\n",
    "    process_this_frame-=1\n",
    "    \n",
    "    \n",
    "    if process_this_frame <= 0:\n",
    "        process_this_frame = 3\n",
    "        small_frame = cv.resize(frame, (0, 0), fx=1 / face_recog_scale_factor, fy=1 / face_recog_scale_factor)\n",
    "        rgb_frame = small_frame[:, :, ::-1]\n",
    "        face_locations = face_recognition.face_locations(rgb_frame)\n",
    "        #face_encodings = face_recognition.face_encodings(rgb_frame, face_locations)\n",
    "        \n",
    "        #for (top, right, bottom, left), face_encoding in zip(face_locations, face_encodings):\n",
    "        storedFaceLocation = face_locations\n",
    "        \n",
    "    for (top, right, bottom, left) in storedFaceLocation:\n",
    "        cv.rectangle(frame, (left*face_recog_scale_factor, top*face_recog_scale_factor), (right*face_recog_scale_factor, bottom*face_recog_scale_factor), (0, 0, 255), 2)\n",
    "\n",
    "    cv.imshow(\"Live\", frame)\n",
    "\n",
    "capture.release()\n",
    "cv.destroyAllWindows()"
   ]
  },
  {
   "cell_type": "code",
   "execution_count": 3,
   "id": "371f3c01",
   "metadata": {},
   "outputs": [],
   "source": [
    "#face and face landmarks \n",
    "capture = cv.VideoCapture(0)\n",
    "process_this_frame = 0\n",
    "storedFaceLocation = [(0,0,0,0)]\n",
    "storedFeatureLocation = []\n",
    "storedFPS = 0\n",
    "face_recog_scale_factor = 4\n",
    "previousTimestamp = cv.getTickCount()\n",
    "\n",
    "while True:\n",
    "    isTrue, frame = capture.read()\n",
    "    \n",
    "    if cv.waitKey(20) & 0xFF==ord('q') or not(isTrue):\n",
    "        break  \n",
    "            \n",
    "    frame = cv.flip(frame, 1)\n",
    "    frame = cv.resize(frame, (frame.shape[1] // 2, frame.shape[0] // 2), interpolation = cv.INTER_CUBIC)\n",
    "    process_this_frame-=1\n",
    "    \n",
    "    \n",
    "    if process_this_frame <= 0:\n",
    "        process_this_frame = 3\n",
    "        small_frame = cv.resize(frame, (0, 0), fx=1 / face_recog_scale_factor, fy=1 / face_recog_scale_factor)\n",
    "        rgb_frame = small_frame[:, :, ::-1]\n",
    "        face_locations = face_recognition.face_locations(rgb_frame)\n",
    "        face_landmarks_list = face_recognition.face_landmarks(rgb_frame)\n",
    "        #face_encodings = face_recognition.face_encodings(rgb_frame, face_locations)\n",
    "        \n",
    "        #for (top, right, bottom, left), face_encoding in zip(face_locations, face_encodings):\n",
    "        storedFaceLocation = face_locations\n",
    "        \n",
    "        storedFeatureLocation = []\n",
    "        for face_landmarks in face_landmarks_list:\n",
    "            for facial_feature in face_landmarks.keys():\n",
    "                #print(\"The {} in this face has the following points: {}\".format(facial_feature, face_landmarks[facial_feature]))\n",
    "                feature_points = np.array(face_landmarks[facial_feature])\n",
    "                if len(feature_points) > 0:\n",
    "                    with np.nditer(feature_points, op_flags=['readwrite']) as it:\n",
    "                        for x in it:\n",
    "                            x*=face_recog_scale_factor\n",
    "                    storedFeatureLocation.append(feature_points)\n",
    "                    \n",
    "        tick = cv.getTickCount()\n",
    "        t = (tick - previousTimestamp)/cv.getTickFrequency()\n",
    "        previousTimestamp = tick\n",
    "        storedFPS = 1 / t\n",
    "        \n",
    "\n",
    "                    \n",
    "\n",
    "    for (top, right, bottom, left) in storedFaceLocation:\n",
    "        cv.rectangle(frame, (left*face_recog_scale_factor, top*face_recog_scale_factor), (right*face_recog_scale_factor, bottom*face_recog_scale_factor), (0, 0, 255), 2)\n",
    "    for featurePoints in storedFeatureLocation:\n",
    "        cv.drawContours(frame, [featurePoints], 0, (255,255,255), 1)\n",
    "    cv.putText(frame, \"FPS:\" + str(\"{:.2f}\".format(storedFPS * 3)), (0,30), cv.FONT_HERSHEY_SIMPLEX, 1.0, (255,255,255), 1)\n",
    "    cv.imshow(\"Live\", frame)\n",
    "\n",
    "capture.release()\n",
    "cv.destroyAllWindows()"
   ]
  },
  {
   "cell_type": "code",
   "execution_count": 21,
   "id": "2fa95409",
   "metadata": {},
   "outputs": [],
   "source": [
    "#checkerboard corner marker\n",
    "CHECKERBOARD = (9,6)\n",
    "capture = cv.VideoCapture(0)\n",
    "process_this_frame = 0\n",
    "scale_factor = 3\n",
    "\n",
    "while True:\n",
    "    isTrue, frame = capture.read()\n",
    "    \n",
    "    if cv.waitKey(20) & 0xFF==ord('q') or not(isTrue):\n",
    "        break  \n",
    "\n",
    "    frame = cv.flip(frame, 1)\n",
    "    frame = cv.resize(frame, (frame.shape[1] // 2, frame.shape[0] // 2), interpolation = cv.INTER_CUBIC)\n",
    "    process_this_frame-=1\n",
    "    \n",
    "    \n",
    "    if process_this_frame <= 0:\n",
    "        process_this_frame = 1\n",
    "        small_frame = cv.resize(frame, (0, 0), fx=1 / scale_factor, fy=1 / scale_factor)\n",
    "        gray = cv.cvtColor(small_frame,cv.COLOR_BGR2GRAY)\n",
    "        ret, corners = cv.findChessboardCorners(gray, CHECKERBOARD,None)\n",
    "        if ret:\n",
    "            for corner in corners:\n",
    "                cv.drawMarker(frame, (int(corner[0][0])*scale_factor, int(corner[0][1])*scale_factor), (0, 255, 0), thickness=2)\n",
    "        \n",
    "    cv.imshow(\"Live\", frame)\n",
    "\n",
    "capture.release()\n",
    "cv.destroyAllWindows()"
   ]
  },
  {
   "cell_type": "code",
   "execution_count": 16,
   "id": "0c07d78d",
   "metadata": {},
   "outputs": [],
   "source": [
    "#checkerboard axis or cube to corner\n",
    "def drawHelper(f):\n",
    "    x = int(f * scale_factor)\n",
    "    if x > 100000:\n",
    "        x = 100000\n",
    "    if x < 0:\n",
    "        x = 0\n",
    "    return x\n",
    "\n",
    "def draw(img, corners, imgpts):\n",
    "    if drawType:\n",
    "        return drawCube(img, corners, imgpts)\n",
    "    else:\n",
    "        return drawAxis(img, corners, imgpts)\n",
    "\n",
    "def drawAxis(img, corners, imgpts):\n",
    "    corner = tuple(map(drawHelper, corners[0].ravel()))\n",
    "    img = cv.line(img, corner, tuple(map(drawHelper, imgpts[0].ravel())), (255,0,0), 5)\n",
    "    img = cv.line(img, corner, tuple(map(drawHelper, imgpts[1].ravel())), (0,255,0), 5)\n",
    "    img = cv.line(img, corner, tuple(map(drawHelper, imgpts[2].ravel())), (0,0,255), 5)\n",
    "    return img\n",
    "\n",
    "def drawCube(img, corners, imgpts):\n",
    "    imgpts = np.array([[drawHelper(f) for f in p] for p in np.int32(imgpts).reshape(-1,2)])\n",
    "    # draw ground floor in green\n",
    "    img = cv.drawContours(img, [imgpts[:4]],-1,(0,255,0),-3)\n",
    "    # draw pillars in blue color\n",
    "    for i,j in zip(range(4),range(4,8)):\n",
    "        img = cv.line(img, tuple(imgpts[i]), tuple(imgpts[j]),(255),3)\n",
    "    # draw top layer in red color\n",
    "    img = cv.drawContours(img, [imgpts[4:]],-1,(0,0,255),3)\n",
    "    return img\n",
    "\n",
    "        \n",
    "capture = cv.VideoCapture(0)\n",
    "process_this_frame = 0\n",
    "screen_scale_factor = 2\n",
    "scale_factor = 2\n",
    "max_cali_frame_size = 1\n",
    "objpoints = [] # 3d point in real world space\n",
    "imgpoints = [] # 2d points in image plane.\n",
    "use_stored_cali_matrix = 1\n",
    "drawType = 1\n",
    "\n",
    "criteria = (cv.TERM_CRITERIA_EPS + cv.TERM_CRITERIA_MAX_ITER, 30, 0.001)\n",
    "# prepare object points, like (0,0,0), (1,0,0), (2,0,0) ....,(6,5,0)\n",
    "objp = np.zeros((1, CHECKERBOARD[0]* CHECKERBOARD[1],3), np.float32)\n",
    "objp[0, :, :2] = np.mgrid[0:CHECKERBOARD[0],0:CHECKERBOARD[1]].T.reshape(-1, 2)\n",
    "\n",
    "axis = np.float32([[3,0,0], [0,3,0], [0,0,-3]]).reshape(-1,3)\n",
    "\n",
    "if drawType:\n",
    "    axis = np.float32([[0,0,0], [0,3,0], [3,3,0], [3,0,0],\n",
    "                   [0,0,-3],[0,3,-3],[3,3,-3],[3,0,-3] ])\n",
    "    \n",
    "    \n",
    "\n",
    "\n",
    "while True:\n",
    "    isTrue, frame = capture.read()\n",
    "    \n",
    "    if cv.waitKey(20) & 0xFF==ord('q') or not(isTrue):\n",
    "        break  \n",
    "\n",
    "    frame = cv.flip(frame, 1)\n",
    "    frame = cv.resize(frame, (frame.shape[1]//screen_scale_factor, frame.shape[0]//screen_scale_factor), interpolation = cv.INTER_CUBIC)\n",
    "    process_this_frame-=1\n",
    "    \n",
    "    \n",
    "    \n",
    "    if process_this_frame <= 0:\n",
    "        process_this_frame = 1\n",
    "        small_frame = cv.resize(frame, (0, 0), fx=1 / scale_factor, fy=1 / scale_factor)\n",
    "        gray = cv.cvtColor(small_frame,cv.COLOR_BGR2GRAY)\n",
    "        ret, corners = cv.findChessboardCorners(gray, CHECKERBOARD,None)\n",
    "        \n",
    "\n",
    "        if ret:\n",
    "            if len(objpoints) >= max_cali_frame_size:\n",
    "                objpoints.pop(0)\n",
    "                imgpoints.pop(0)\n",
    "\n",
    "            objpoints.append(objp)\n",
    "            corners2 = cv.cornerSubPix(gray,corners, (11,11), (-1,-1), criteria)\n",
    "            imgpoints.append(corners)\n",
    "            \n",
    "            ret, mtx, dist, rvecs, tvecs = cv.calibrateCamera(objpoints, imgpoints, gray.shape[::-1], None, None)\n",
    "#             print(mtx)\n",
    "            if use_stored_cali_matrix:\n",
    "                mtx = np.array([[272.59322508,0,162.70908309],[0,272.00736526,86.05319646],[0,0,1]])\n",
    "            ret,rvecs, tvecs = cv.solvePnP(objp, corners2, mtx, dist)\n",
    "            imgpts, jac = cv.projectPoints(axis, rvecs, tvecs, mtx, dist)\n",
    "            frame = draw(frame,corners2,imgpts)\n",
    "            \n",
    "        \n",
    "    cv.imshow(\"Live\", frame)\n",
    "\n",
    "capture.release()\n",
    "cv.destroyAllWindows()"
   ]
  },
  {
   "cell_type": "code",
   "execution_count": 29,
   "id": "3fab35dc",
   "metadata": {},
   "outputs": [
    {
     "data": {
      "text/plain": [
       "array([[161.65787951,   0.        , 178.40852048],\n",
       "       [  0.        ,  84.08703535,  45.57696538],\n",
       "       [  0.        ,   0.        ,   1.        ]])"
      ]
     },
     "execution_count": 29,
     "metadata": {},
     "output_type": "execute_result"
    }
   ],
   "source": [
    "stored_mtx"
   ]
  },
  {
   "cell_type": "code",
   "execution_count": 8,
   "id": "ea37a0cb",
   "metadata": {},
   "outputs": [
    {
     "name": "stdout",
     "output_type": "stream",
     "text": [
      "True\n"
     ]
    }
   ],
   "source": [
    "#calibration \n",
    "CHECKERBOARD = (9,6)\n",
    "# termination criteria\n",
    "criteria = (cv.TERM_CRITERIA_EPS + cv.TERM_CRITERIA_MAX_ITER, 30, 0.001)\n",
    "# prepare object points, like (0,0,0), (1,0,0), (2,0,0) ....,(6,5,0)\n",
    "objp = np.zeros((1, CHECKERBOARD[0]* CHECKERBOARD[1],3), np.float32)\n",
    "objp[0, :, :2] = np.mgrid[0:CHECKERBOARD[0],0:CHECKERBOARD[1]].T.reshape(-1, 2)\n",
    "# Arrays to store object points and image points from all the images.\n",
    "objpoints = [] # 3d point in real world space\n",
    "imgpoints = [] # 2d points in image plane.\n",
    "images = glob.glob('Photos/random/*')\n",
    "for fname in images:\n",
    "    img = cv.imread(fname)\n",
    "    gray = cv.cvtColor(img, cv.COLOR_BGR2GRAY)\n",
    "    # Find the chess board corners\n",
    "    ret, corners = cv.findChessboardCorners(gray, CHECKERBOARD, None)\n",
    "    # If found, add object points, image points (after refining them)\n",
    "    print(ret)\n",
    "    if ret == True:\n",
    "        objpoints.append(objp)\n",
    "        corners2 = cv.cornerSubPix(gray,corners, (11,11), (-1,-1), criteria)\n",
    "        imgpoints.append(corners)\n",
    "        # Draw and display the corners\n",
    "        #cv.drawChessboardCorners(img, CHECKERBOARD, corners2, ret)\n",
    "        #cv.imshow('img', img)\n",
    "        #cv.waitKey(200)\n",
    "#cv.destroyAllWindows()\n",
    "ret, mtx, dist, rvecs, tvecs = cv.calibrateCamera(objpoints, imgpoints, gray.shape[::-1], None, None)"
   ]
  },
  {
   "cell_type": "code",
   "execution_count": null,
   "id": "d9c8a636",
   "metadata": {},
   "outputs": [],
   "source": []
  },
  {
   "cell_type": "code",
   "execution_count": 23,
   "id": "479b2fd5",
   "metadata": {},
   "outputs": [
    {
     "data": {
      "text/plain": [
       "array([[536.39560391,   0.        , 334.03199451],\n",
       "       [  0.        , 536.43966752, 239.43394385],\n",
       "       [  0.        ,   0.        ,   1.        ]])"
      ]
     },
     "execution_count": 23,
     "metadata": {},
     "output_type": "execute_result"
    }
   ],
   "source": [
    "# calibration 2\n",
    "img = cv.imread('Photos/calib_sample/left12.jpg')\n",
    "h,  w = img.shape[:2]\n",
    "newcameramtx, roi = cv.getOptimalNewCameraMatrix(mtx, dist, (w,h), 1, (w,h))\n"
   ]
  },
  {
   "cell_type": "code",
   "execution_count": 1,
   "id": "fad56140",
   "metadata": {},
   "outputs": [
    {
     "ename": "NameError",
     "evalue": "name 'img' is not defined",
     "output_type": "error",
     "traceback": [
      "\u001b[0;31m---------------------------------------------------------------------------\u001b[0m",
      "\u001b[0;31mNameError\u001b[0m                                 Traceback (most recent call last)",
      "\u001b[0;32m<ipython-input-1-77a7949ba908>\u001b[0m in \u001b[0;36m<module>\u001b[0;34m\u001b[0m\n\u001b[0;32m----> 1\u001b[0;31m \u001b[0mimg\u001b[0m\u001b[0;34m\u001b[0m\u001b[0;34m\u001b[0m\u001b[0m\n\u001b[0m",
      "\u001b[0;31mNameError\u001b[0m: name 'img' is not defined"
     ]
    }
   ],
   "source": []
  },
  {
   "cell_type": "code",
   "execution_count": 12,
   "id": "096c84e7",
   "metadata": {},
   "outputs": [],
   "source": [
    "# draw axis on corner\n",
    "def draw(img, corners, imgpts):\n",
    "    corner = tuple(map(int, corners[0].ravel()))\n",
    "    img = cv.line(img, corner, tuple(map(int, imgpts[0].ravel())), (255,0,0), 5)\n",
    "    img = cv.line(img, corner, tuple(map(int, imgpts[1].ravel())), (0,255,0), 5)\n",
    "    img = cv.line(img, corner, tuple(map(int, imgpts[2].ravel())), (0,0,255), 5)\n",
    "    return img\n",
    "\n",
    "criteria = (cv.TERM_CRITERIA_EPS + cv.TERM_CRITERIA_MAX_ITER, 30, 0.001)\n",
    "objp = np.zeros((1, CHECKERBOARD[0]* CHECKERBOARD[1],3), np.float32)\n",
    "objp[0, :, :2] = np.mgrid[0:CHECKERBOARD[0],0:CHECKERBOARD[1]].T.reshape(-1, 2)\n",
    "axis = np.float32([[3,0,0], [0,3,0], [0,0,-3]]).reshape(-1,3)\n",
    "\n",
    "for fname in glob.glob('Photos/random/*'):\n",
    "    img = cv.imread(fname)\n",
    "    gray = cv.cvtColor(img,cv.COLOR_BGR2GRAY)\n",
    "    ret, corners = cv.findChessboardCorners(gray, CHECKERBOARD,None)\n",
    "    if ret == True:\n",
    "        corners2 = cv.cornerSubPix(gray,corners,(11,11),(-1,-1),criteria)\n",
    "        # Find the rotation and translation vectors.\n",
    "        ret,rvecs, tvecs = cv.solvePnP(objp, corners2, mtx, dist)\n",
    "        # project 3D points to image plane\n",
    "        imgpts, jac = cv.projectPoints(axis, rvecs, tvecs, mtx, dist)\n",
    "        img = draw(img,corners2,imgpts)\n",
    "        cv.imshow('img',img)\n",
    "        k = cv.waitKey(0) & 0xFF\n",
    "        if k == ord('s'):\n",
    "            cv.imwrite(fname[:6]+'.png', img)\n",
    "        cv.waitKey(500)\n",
    "cv.destroyAllWindows()"
   ]
  },
  {
   "cell_type": "code",
   "execution_count": null,
   "id": "d46e8fe9",
   "metadata": {},
   "outputs": [],
   "source": [
    "img = cv.imread('Photos/calib_sample/left12.jpg')\n",
    "gray = cv.cvtColor(img,cv.COLOR_BGR2GRAY)\n",
    "ret, corners = cv.findChessboardCorners(gray, (7,6),None)\n",
    "for corner in corners:\n",
    "    cv.drawMarker(img, (int(corner[0][0]), int(corner[0][1])), (0, 255, 0), thickness=2)\n",
    "cv.imshow('img', img)\n",
    "cv.waitKey(0)"
   ]
  },
  {
   "cell_type": "code",
   "execution_count": 6,
   "id": "ba6dd53f",
   "metadata": {},
   "outputs": [
    {
     "data": {
      "text/plain": [
       "array([[20.10652776,  0.        , 84.16362008],\n",
       "       [ 0.        , 20.34237943, 95.42267758],\n",
       "       [ 0.        ,  0.        ,  1.        ]])"
      ]
     },
     "execution_count": 6,
     "metadata": {},
     "output_type": "execute_result"
    }
   ],
   "source": [
    "matrix"
   ]
  },
  {
   "cell_type": "code",
   "execution_count": null,
   "id": "ece4f960",
   "metadata": {},
   "outputs": [],
   "source": []
  }
 ],
 "metadata": {
  "kernelspec": {
   "display_name": "Python 3",
   "language": "python",
   "name": "python3"
  },
  "language_info": {
   "codemirror_mode": {
    "name": "ipython",
    "version": 3
   },
   "file_extension": ".py",
   "mimetype": "text/x-python",
   "name": "python",
   "nbconvert_exporter": "python",
   "pygments_lexer": "ipython3",
   "version": "3.8.8"
  }
 },
 "nbformat": 4,
 "nbformat_minor": 5
}
